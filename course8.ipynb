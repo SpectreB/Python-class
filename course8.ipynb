{
  "nbformat": 4,
  "nbformat_minor": 0,
  "metadata": {
    "colab": {
      "provenance": [],
      "authorship_tag": "ABX9TyPPZEBK6r+9Mt1O7bVZWLh1",
      "include_colab_link": true
    },
    "kernelspec": {
      "name": "python3",
      "display_name": "Python 3"
    },
    "language_info": {
      "name": "python"
    }
  },
  "cells": [
    {
      "cell_type": "markdown",
      "metadata": {
        "id": "view-in-github",
        "colab_type": "text"
      },
      "source": [
        "<a href=\"https://colab.research.google.com/github/SpectreB/Python-class/blob/main/course8.ipynb\" target=\"_parent\"><img src=\"https://colab.research.google.com/assets/colab-badge.svg\" alt=\"Open In Colab\"/></a>"
      ]
    },
    {
      "cell_type": "code",
      "execution_count": null,
      "metadata": {
        "colab": {
          "base_uri": "https://localhost:8080/"
        },
        "id": "zRzvCg4VB0nf",
        "outputId": "b96c6b43-0eaf-4a6a-8820-71daf21ce841"
      },
      "outputs": [
        {
          "output_type": "stream",
          "name": "stdout",
          "text": [
            "{1: 'Geeks', 2: 'For', 3: {'A': 'Welcome', 'B': 'To', 'C': 'Geeks'}}\n"
          ]
        }
      ],
      "source": [
        "#nested dictionnary\n",
        "dict = { 1: 'Geeks', 2 : 'For',\n",
        "        3 : {'A': 'Welcome', 'B': 'To', 'C' :'Geeks'}}\n",
        "print(dict)"
      ]
    },
    {
      "cell_type": "code",
      "source": [
        "dict1 = { 1: 'Geeks', 2 : 'For' }\n",
        "dict2 = ([1, 'Greeks'],[2,'For'])\n",
        "print(dict1)\n",
        "print(dict2)"
      ],
      "metadata": {
        "colab": {
          "base_uri": "https://localhost:8080/"
        },
        "id": "NTpkVQ8tDsAa",
        "outputId": "c91a5de9-7c0f-49ee-d9ff-70781a4178cb"
      },
      "execution_count": null,
      "outputs": [
        {
          "output_type": "stream",
          "name": "stdout",
          "text": [
            "{1: 'Geeks', 2: 'For'}\n",
            "([1, 'Greeks'], [2, 'For'])\n"
          ]
        }
      ]
    },
    {
      "cell_type": "code",
      "source": [
        "my_list = { 1: 'Hello', \"Hi\": 25, \"Howdy\": 100}\n",
        "print(1 in my_list)\n",
        "print(\"Howdy\" not in my_list)\n",
        "print(\"Hello\" in my_list)"
      ],
      "metadata": {
        "colab": {
          "base_uri": "https://localhost:8080/"
        },
        "id": "4kI5jCE-FCUM",
        "outputId": "aab5c85b-4ef2-4d15-d1b2-4f3692b3d36c"
      },
      "execution_count": null,
      "outputs": [
        {
          "output_type": "stream",
          "name": "stdout",
          "text": [
            "True\n",
            "False\n",
            "False\n"
          ]
        }
      ]
    },
    {
      "cell_type": "code",
      "source": [
        "for keys in my_list.keys() :\n",
        "  print(keys)\n",
        "for values in my_list.values() :\n",
        "  print(values)"
      ],
      "metadata": {
        "colab": {
          "base_uri": "https://localhost:8080/"
        },
        "id": "KoXKgCZdLQIG",
        "outputId": "208e35bc-8ceb-489d-c64c-a99dc39704d0"
      },
      "execution_count": null,
      "outputs": [
        {
          "output_type": "stream",
          "name": "stdout",
          "text": [
            "1\n",
            "Hi\n",
            "Howdy\n",
            "Hello\n",
            "25\n",
            "100\n"
          ]
        }
      ]
    },
    {
      "cell_type": "code",
      "source": [
        "list1={1 , 2 ,3 }\n",
        "Tuple1=tuple(list1)\n",
        "list2={4 , 5 ,6 }\n",
        "Tuple2=tuple(list2)\n",
        "dict={}\n",
        "for i in range (len(list1)) :\n",
        "  key=Tuple1[i]\n",
        "  value=Tuple2[i]\n",
        "  dict[key]=value\n",
        "print (dict)\n",
        "\n"
      ],
      "metadata": {
        "colab": {
          "base_uri": "https://localhost:8080/"
        },
        "id": "3GfqG-dXNQ3_",
        "outputId": "37854321-064f-4169-b3bc-b6d107fa1d5a"
      },
      "execution_count": null,
      "outputs": [
        {
          "output_type": "stream",
          "name": "stdout",
          "text": [
            "{1: 4, 2: 5, 3: 6}\n"
          ]
        }
      ]
    },
    {
      "cell_type": "code",
      "source": [
        "dict1 = {'a': 1, 'b': 2}\n",
        "dict2 = {'b': 3, 'c': 4}\n",
        "\n",
        "dict1.update(dict2)\n",
        "print(dict1)"
      ],
      "metadata": {
        "colab": {
          "base_uri": "https://localhost:8080/"
        },
        "id": "jarA_wXtZ7gc",
        "outputId": "af451b2c-e403-41a7-e736-31cffabe3e9b"
      },
      "execution_count": null,
      "outputs": [
        {
          "output_type": "stream",
          "name": "stdout",
          "text": [
            "{'a': 1, 'b': 3, 'c': 4}\n"
          ]
        }
      ]
    },
    {
      "cell_type": "code",
      "source": [
        "employees =['Kelly', 'Emma']\n",
        "defaults ={'designation', 'Developer', 'Salary'}\n",
        "res=dict.fromkeys(employees, defaults)\n",
        "print(res)\n",
        "print(res['Kelly'])"
      ],
      "metadata": {
        "colab": {
          "base_uri": "https://localhost:8080/"
        },
        "id": "QJk3n33xdaxM",
        "outputId": "d4302e05-2e14-447c-af94-b48bbc8d85f4"
      },
      "execution_count": null,
      "outputs": [
        {
          "output_type": "stream",
          "name": "stdout",
          "text": [
            "{'Kelly': {'designation', 'Salary', 'Developer'}, 'Emma': {'designation', 'Salary', 'Developer'}}\n",
            "{'designation', 'Salary', 'Developer'}\n"
          ]
        }
      ]
    },
    {
      "cell_type": "code",
      "source": [
        "sample_dict = {'a': 100, 'b':200, 'c':300}\n",
        "for i in range (len(sample_dict)) :\n",
        "  if (sample_dict.keys()=='200'):\n",
        "    print (True)\n",
        "print(False)"
      ],
      "metadata": {
        "colab": {
          "base_uri": "https://localhost:8080/"
        },
        "id": "KHxzCaobeCwy",
        "outputId": "a3764567-1e13-4577-f2f3-093465f0b062"
      },
      "execution_count": null,
      "outputs": [
        {
          "output_type": "stream",
          "name": "stdout",
          "text": [
            "dict_keys(['a', 'b', 'c'])\n",
            "dict_keys(['a', 'b', 'c'])\n",
            "dict_keys(['a', 'b', 'c'])\n",
            "False\n"
          ]
        }
      ]
    },
    {
      "cell_type": "code",
      "source": [
        "keys=('Ten','Twenty','Thirty')\n",
        "values=(10,20,30)\n",
        "res_dict=dict(zip(keys,values)) #permet d'écrir qu'un seul tuple au lie des tous les 3 , la fonction formkey\n",
        "print(res_dict)"
      ],
      "metadata": {
        "id": "bQNuwVOxgmNP",
        "colab": {
          "base_uri": "https://localhost:8080/"
        },
        "outputId": "e4eb88b9-601a-45f7-a468-106715b0674d"
      },
      "execution_count": 1,
      "outputs": [
        {
          "output_type": "stream",
          "name": "stdout",
          "text": [
            "{'Ten': 10, 'Twenty': 20, 'Thirty': 30}\n"
          ]
        }
      ]
    },
    {
      "cell_type": "code",
      "source": [
        "dict1={'Ten':10, 'Twenty': 20, 'Thirty':30}\n",
        "dict2={'Thirty':30, 'Forty': 40, 'Fifty':50}\n",
        "dict1.update(dict2)\n",
        "print(dict1)"
      ],
      "metadata": {
        "colab": {
          "base_uri": "https://localhost:8080/"
        },
        "id": "Lfh8Lo3IZyP1",
        "outputId": "ccffe341-fa84-4648-d054-5610ad35f3d6"
      },
      "execution_count": 2,
      "outputs": [
        {
          "output_type": "stream",
          "name": "stdout",
          "text": [
            "{'Ten': 10, 'Twenty': 20, 'Thirty': 30, 'Forty': 40, 'Fifty': 50}\n"
          ]
        }
      ]
    },
    {
      "cell_type": "code",
      "source": [
        "employees=['Kelly','Emma']\n",
        "default={\"designation\":'Developer',\"Salary\":8000}\n",
        "res=dict.fromkeys(employees,default)\n",
        "print(res)"
      ],
      "metadata": {
        "colab": {
          "base_uri": "https://localhost:8080/"
        },
        "id": "tKbNPbRqZ3O7",
        "outputId": "e5960aeb-5ad3-4cdd-8d60-05b8712df5bc"
      },
      "execution_count": 3,
      "outputs": [
        {
          "output_type": "stream",
          "name": "stdout",
          "text": [
            "{'Kelly': {'designation': 'Developer', 'Salary': 8000}, 'Emma': {'designation': 'Developer', 'Salary': 8000}}\n"
          ]
        }
      ]
    },
    {
      "cell_type": "code",
      "source": [
        "sample_dict={\n",
        "    \"name\":\"Kelly\",\n",
        "    \"age\":25,\n",
        "    \"Salary\":8000,\n",
        "    \"city\":\"New York\"\n",
        "    }\n",
        "\n",
        "sample_dict.pop(\"name\")\n",
        "sample_dict.pop(\"Salary\")\n",
        "print(sample_dict)\n"
      ],
      "metadata": {
        "colab": {
          "base_uri": "https://localhost:8080/"
        },
        "id": "VcSOWU5FZ5qg",
        "outputId": "bcbf033d-8282-4d67-aefb-5b27eeb84c77"
      },
      "execution_count": 4,
      "outputs": [
        {
          "output_type": "stream",
          "name": "stdout",
          "text": [
            "{'age': 25, 'city': 'New York'}\n"
          ]
        }
      ]
    },
    {
      "cell_type": "code",
      "source": [
        "Dict={\"Dict1\":{1:'Geeks'},\n",
        "      'Dict2':{\"Name\":'For'}}\n",
        "\n",
        "print(Dict['Dict1'])\n",
        "print(Dict['Dict1'][1])\n",
        "print(Dict['Dict2']['Name'])"
      ],
      "metadata": {
        "colab": {
          "base_uri": "https://localhost:8080/"
        },
        "id": "vvhpkjV1Z-AT",
        "outputId": "5f1b6670-5edf-48fc-8c4e-ac8a9ad28c4b"
      },
      "execution_count": 5,
      "outputs": [
        {
          "output_type": "stream",
          "name": "stdout",
          "text": [
            "{1: 'Geeks'}\n",
            "Geeks\n",
            "For\n"
          ]
        }
      ]
    },
    {
      "cell_type": "code",
      "source": [
        "country_capitals={\n",
        "\"United states\" : \"Washington D.C\",\n",
        "\"Italy\":\"Rome\",\n",
        "\"England\":\"London\"\n",
        "}\n",
        "print(country_capitals)\n",
        "\n",
        "country_capitals={\n",
        "\"United states\" : \"Washington D.C\",\n",
        "\"Italy\":\"Rome\",\n",
        "\"England\":\"London\"\n",
        "}\n",
        "print(country_capitals[\"Italy\"])\n",
        "\n",
        "\n",
        "country_capitals={\n",
        "\"United states\" : \"Washington D.C\",\n",
        "\"Italy\":\"Rome\",\n",
        "\"England\":\"London\"\n",
        "}\n",
        "\n",
        "del country_capitals[\"United states\"]\n",
        "print (country_capitals)"
      ],
      "metadata": {
        "colab": {
          "base_uri": "https://localhost:8080/"
        },
        "id": "CnZeAf3EaNtE",
        "outputId": "f4a82100-88a4-4536-ae66-b577a5496731"
      },
      "execution_count": 7,
      "outputs": [
        {
          "output_type": "stream",
          "name": "stdout",
          "text": [
            "{'United states': 'Washington D.C', 'Italy': 'Rome', 'England': 'London'}\n",
            "Rome\n",
            "{'Italy': 'Rome', 'England': 'London'}\n"
          ]
        }
      ]
    },
    {
      "cell_type": "code",
      "source": [],
      "metadata": {
        "id": "uwk9jaebaTIW"
      },
      "execution_count": null,
      "outputs": []
    }
  ]
}