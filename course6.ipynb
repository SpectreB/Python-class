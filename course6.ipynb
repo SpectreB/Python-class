{
  "nbformat": 4,
  "nbformat_minor": 0,
  "metadata": {
    "colab": {
      "provenance": [],
      "authorship_tag": "ABX9TyN8ky6zmiAUzhCHCT+PmoUh"
    },
    "kernelspec": {
      "name": "python3",
      "display_name": "Python 3"
    },
    "language_info": {
      "name": "python"
    }
  },
  "cells": [
    {
      "cell_type": "code",
      "execution_count": null,
      "metadata": {
        "colab": {
          "base_uri": "https://localhost:8080/",
          "height": 143
        },
        "id": "KASn_V438VF2",
        "outputId": "05d4c3f7-8d11-4a29-c4ca-dd14eeeaa282"
      },
      "outputs": [
        {
          "output_type": "error",
          "ename": "SyntaxError",
          "evalue": "ignored",
          "traceback": [
            "\u001b[0;36m  File \u001b[0;32m\"<ipython-input-1-8af30d5a5d84>\"\u001b[0;36m, line \u001b[0;32m1\u001b[0m\n\u001b[0;31m    Lists[,,]\u001b[0m\n\u001b[0m          ^\u001b[0m\n\u001b[0;31mSyntaxError\u001b[0m\u001b[0;31m:\u001b[0m invalid syntax\n"
          ]
        }
      ],
      "source": [
        "Lists[,,]\n",
        "Repetition accepted\n",
        "Mutable\n",
        "Used for a database\n"
      ]
    },
    {
      "cell_type": "code",
      "source": [
        "print(Liste_prenom[:])"
      ],
      "metadata": {
        "colab": {
          "base_uri": "https://localhost:8080/"
        },
        "id": "PHLNGRPTGoTN",
        "outputId": "db8b2bfa-9725-4efe-d9f6-a166b0636008"
      },
      "execution_count": null,
      "outputs": [
        {
          "output_type": "stream",
          "name": "stdout",
          "text": [
            "['Raph', 'Matt', 'Thibaut', 'Augustin']\n"
          ]
        }
      ]
    },
    {
      "cell_type": "code",
      "source": [
        "Liste_prenom = ['Raph', 'Matt', 'Thibaut']\n",
        "Liste_prenom.insert(4, 'Augustin')\n",
        "print(Liste_prenom)"
      ],
      "metadata": {
        "colab": {
          "base_uri": "https://localhost:8080/"
        },
        "id": "yxevAa0zA4UD",
        "outputId": "ae13fc23-946f-481e-f32f-874713d79e33"
      },
      "execution_count": null,
      "outputs": [
        {
          "output_type": "stream",
          "name": "stdout",
          "text": [
            "['Raph', 'Matt', 'Thibaut', 'Augustin']\n"
          ]
        }
      ]
    },
    {
      "cell_type": "code",
      "source": [
        "print(Liste_prenom[::3])"
      ],
      "metadata": {
        "colab": {
          "base_uri": "https://localhost:8080/"
        },
        "id": "YMd5uEW0Ipha",
        "outputId": "758df957-b6a0-44b4-e952-2e42c163290e"
      },
      "execution_count": null,
      "outputs": [
        {
          "output_type": "stream",
          "name": "stdout",
          "text": [
            "['Raph', 'Augustin']\n"
          ]
        }
      ]
    },
    {
      "cell_type": "code",
      "source": [
        "N = 5  # Replace this with your desired value of N\n",
        "natural_numbers = [i for i in range(1, N + 1)]  # Create a list of the first N natural numbers\n",
        "total_sum = sum(natural_numbers)  # Calculate the sum using the sum() function\n",
        "print(\"Sum of the first\", N, \"natural numbers is:\", total_sum)\n"
      ],
      "metadata": {
        "id": "lxwx5GEEN-M7"
      },
      "execution_count": null,
      "outputs": []
    },
    {
      "cell_type": "code",
      "source": [
        "Tuple(,,)\n",
        "Immutable"
      ],
      "metadata": {
        "id": "2y-RdA2JBkAL"
      },
      "execution_count": null,
      "outputs": []
    },
    {
      "cell_type": "code",
      "source": [
        "\n",
        "n = int(input(\"Enter a positive integer n: \"))\n",
        "\n",
        "series = [1/i for i in range(1, n + 1)]\n",
        "\n",
        "total_sum = sum(series)\n",
        "\n",
        "print(\"Sum of the series 1/1 + 1/2 + 1/3 + ... + 1/{} is:\".format(n), total_sum)\n"
      ],
      "metadata": {
        "colab": {
          "base_uri": "https://localhost:8080/"
        },
        "id": "T8RK2ylfPPCZ",
        "outputId": "835f6063-91c4-42f1-9431-05d444bebc2a"
      },
      "execution_count": null,
      "outputs": [
        {
          "output_type": "stream",
          "name": "stdout",
          "text": [
            "Enter a positive integer n: 10\n",
            "Sum of the series 1/1 + 1/2 + 1/3 + ... + 1/10 is: 2.9289682539682538\n"
          ]
        }
      ]
    },
    {
      "cell_type": "code",
      "source": [
        "n = int(input(\"Enter a positive integer n: \"))\n",
        "series = []\n",
        "\n",
        "for i in range(1, n +1) :\n",
        "  series.append(1/i)\n",
        "\n",
        "total_sum = sum(series)\n",
        "\n",
        "print(\"Sum of the series 1/1 + 1/2 + 1/3 + ... + 1/{} is:\".format(n), total_sum)\n"
      ],
      "metadata": {
        "colab": {
          "base_uri": "https://localhost:8080/"
        },
        "id": "kt23RtfJPhJm",
        "outputId": "a39ceeba-d476-4652-e7ec-260410ed47cd"
      },
      "execution_count": null,
      "outputs": [
        {
          "output_type": "stream",
          "name": "stdout",
          "text": [
            "Enter a positive integer n: 10\n",
            "Sum of the series 1/1 + 1/2 + 1/3 + ... + 1/10 is: 2.9289682539682538\n"
          ]
        }
      ]
    },
    {
      "cell_type": "code",
      "source": [
        "n = int(input(\"Enter a positive integer n: \"))\n",
        "series = []\n",
        "\n",
        "for i in range(1, n +1) :\n",
        "  series.append(i**(1/2))\n",
        "\n",
        "total_sum = sum(series)\n",
        "\n",
        "print(series)\n"
      ],
      "metadata": {
        "colab": {
          "base_uri": "https://localhost:8080/"
        },
        "id": "stYkM4WdQYye",
        "outputId": "3b617fc9-060d-4c7a-dbd3-3eba3eb636ee"
      },
      "execution_count": null,
      "outputs": [
        {
          "output_type": "stream",
          "name": "stdout",
          "text": [
            "Enter a positive integer n: 6\n",
            "[1.0, 1.4142135623730951, 1.7320508075688772, 2.0, 2.23606797749979, 2.449489742783178]\n"
          ]
        }
      ]
    },
    {
      "cell_type": "code",
      "source": [
        "check = False\n",
        "Class_names = []\n",
        "Class_grades = []\n",
        "while check == False :\n",
        "  nom=(input('Prompt a stud name : '))\n",
        "  if nom==' ' :\n",
        "    break\n",
        "  note=int(input('Prompt the stud grade : '))\n",
        "  Class_names.append(nom)\n",
        "  Class_grades.append(note)\n",
        "\n",
        "print('The average grade in the class is :')\n",
        "print(sum(Class_grades)/len(Class_grades))\n",
        "print(Class_names)\n",
        "print(Class_grades)\n",
        "\n"
      ],
      "metadata": {
        "colab": {
          "base_uri": "https://localhost:8080/"
        },
        "id": "cfLhyqxjaNXS",
        "outputId": "593a6f80-c775-4827-d099-5c4d1a9f8e58"
      },
      "execution_count": null,
      "outputs": [
        {
          "output_type": "stream",
          "name": "stdout",
          "text": [
            "Prompt a stud name : raph\n",
            "Prompt the stud grade : 8\n",
            "Prompt a stud name : bastien\n",
            "Prompt the stud grade : 7\n",
            "Prompt a stud name :  \n",
            "The average grade in the class is :\n",
            "7.5\n",
            "['raph', 'bastien']\n",
            "[8, 7]\n"
          ]
        }
      ]
    },
    {
      "cell_type": "code",
      "source": [
        "print(\"This program will create a list from real numeric data \")\n",
        "nval=int(input(\"Enter nb of values:\"))\n",
        "llnum=[]\n",
        "for i in range (nval):\n",
        "    value=float(input(\"Enter a numeric value:\"))\n",
        "    llnum.append(value)\n",
        "print(llnum)\n",
        "\n",
        "line=\"Temperature is 298.15 K before combustion\"\n",
        "words=line.split('a')\n",
        "print(words)\n",
        "\n",
        "ligne=input(\"Enter, in a single line and SEPARATED BY SPACES, the desired temp\")\n",
        "smooth_text=ligne.split()\n",
        "print(\"List is now {}\".format(smooth_text))\n",
        "temp=[]\n",
        "for element in smooth_text:\n",
        "    value=float(element)\n",
        "    temp.append(value)\n",
        "\n",
        "print(\"The final list is {}\".format(temp))\n",
        "\n",
        "#ex\n",
        "a=[1,3,5,7,11]\n",
        "b=[13,17]\n",
        "c=a+b\n",
        "print (\"First instruction print: {}\".format (c))\n",
        "b[0] = -1\n",
        "d = []\n",
        "for e in a:\n",
        "  d.append (e+1)\n",
        "print (\"Second instruction print: {}\". format (d))\n",
        "d.append(b[0] + 1)\n",
        "d.append(b[-1] + 1)\n",
        "print (\"Third instruction print: {}\". format (d))\n",
        "print (\"Fourth instruction print: {}\".format (d[-2:]))\n",
        "print (\"Fifth instruction print: {}\".format(d[:-1]))\n",
        "print (\"Sixth instruction print: {}\".format(d[1:4]))"
      ],
      "metadata": {
        "id": "kXuE4SmOco90",
        "colab": {
          "base_uri": "https://localhost:8080/",
          "height": 417
        },
        "outputId": "f13b951a-5b8b-45e3-ddca-fc95f2f6a52e"
      },
      "execution_count": 1,
      "outputs": [
        {
          "output_type": "stream",
          "name": "stdout",
          "text": [
            "This program will create a list from real numeric data \n"
          ]
        },
        {
          "output_type": "error",
          "ename": "KeyboardInterrupt",
          "evalue": "ignored",
          "traceback": [
            "\u001b[0;31m---------------------------------------------------------------------------\u001b[0m",
            "\u001b[0;31mKeyboardInterrupt\u001b[0m                         Traceback (most recent call last)",
            "\u001b[0;32m<ipython-input-1-072ad0222c6b>\u001b[0m in \u001b[0;36m<cell line: 2>\u001b[0;34m()\u001b[0m\n\u001b[1;32m      1\u001b[0m \u001b[0mprint\u001b[0m\u001b[0;34m(\u001b[0m\u001b[0;34m\"This program will create a list from real numeric data \"\u001b[0m\u001b[0;34m)\u001b[0m\u001b[0;34m\u001b[0m\u001b[0;34m\u001b[0m\u001b[0m\n\u001b[0;32m----> 2\u001b[0;31m \u001b[0mnval\u001b[0m\u001b[0;34m=\u001b[0m\u001b[0mint\u001b[0m\u001b[0;34m(\u001b[0m\u001b[0minput\u001b[0m\u001b[0;34m(\u001b[0m\u001b[0;34m\"Enter nb of values:\"\u001b[0m\u001b[0;34m)\u001b[0m\u001b[0;34m)\u001b[0m\u001b[0;34m\u001b[0m\u001b[0;34m\u001b[0m\u001b[0m\n\u001b[0m\u001b[1;32m      3\u001b[0m \u001b[0mllnum\u001b[0m\u001b[0;34m=\u001b[0m\u001b[0;34m[\u001b[0m\u001b[0;34m]\u001b[0m\u001b[0;34m\u001b[0m\u001b[0;34m\u001b[0m\u001b[0m\n\u001b[1;32m      4\u001b[0m \u001b[0;32mfor\u001b[0m \u001b[0mi\u001b[0m \u001b[0;32min\u001b[0m \u001b[0mrange\u001b[0m \u001b[0;34m(\u001b[0m\u001b[0mnval\u001b[0m\u001b[0;34m)\u001b[0m\u001b[0;34m:\u001b[0m\u001b[0;34m\u001b[0m\u001b[0;34m\u001b[0m\u001b[0m\n\u001b[1;32m      5\u001b[0m     \u001b[0mvalue\u001b[0m\u001b[0;34m=\u001b[0m\u001b[0mfloat\u001b[0m\u001b[0;34m(\u001b[0m\u001b[0minput\u001b[0m\u001b[0;34m(\u001b[0m\u001b[0;34m\"Enter a numeric value:\"\u001b[0m\u001b[0;34m)\u001b[0m\u001b[0;34m)\u001b[0m\u001b[0;34m\u001b[0m\u001b[0;34m\u001b[0m\u001b[0m\n",
            "\u001b[0;32m/usr/local/lib/python3.10/dist-packages/ipykernel/kernelbase.py\u001b[0m in \u001b[0;36mraw_input\u001b[0;34m(self, prompt)\u001b[0m\n\u001b[1;32m    849\u001b[0m                 \u001b[0;34m\"raw_input was called, but this frontend does not support input requests.\"\u001b[0m\u001b[0;34m\u001b[0m\u001b[0;34m\u001b[0m\u001b[0m\n\u001b[1;32m    850\u001b[0m             )\n\u001b[0;32m--> 851\u001b[0;31m         return self._input_request(str(prompt),\n\u001b[0m\u001b[1;32m    852\u001b[0m             \u001b[0mself\u001b[0m\u001b[0;34m.\u001b[0m\u001b[0m_parent_ident\u001b[0m\u001b[0;34m,\u001b[0m\u001b[0;34m\u001b[0m\u001b[0;34m\u001b[0m\u001b[0m\n\u001b[1;32m    853\u001b[0m             \u001b[0mself\u001b[0m\u001b[0;34m.\u001b[0m\u001b[0m_parent_header\u001b[0m\u001b[0;34m,\u001b[0m\u001b[0;34m\u001b[0m\u001b[0;34m\u001b[0m\u001b[0m\n",
            "\u001b[0;32m/usr/local/lib/python3.10/dist-packages/ipykernel/kernelbase.py\u001b[0m in \u001b[0;36m_input_request\u001b[0;34m(self, prompt, ident, parent, password)\u001b[0m\n\u001b[1;32m    893\u001b[0m             \u001b[0;32mexcept\u001b[0m \u001b[0mKeyboardInterrupt\u001b[0m\u001b[0;34m:\u001b[0m\u001b[0;34m\u001b[0m\u001b[0;34m\u001b[0m\u001b[0m\n\u001b[1;32m    894\u001b[0m                 \u001b[0;31m# re-raise KeyboardInterrupt, to truncate traceback\u001b[0m\u001b[0;34m\u001b[0m\u001b[0;34m\u001b[0m\u001b[0m\n\u001b[0;32m--> 895\u001b[0;31m                 \u001b[0;32mraise\u001b[0m \u001b[0mKeyboardInterrupt\u001b[0m\u001b[0;34m(\u001b[0m\u001b[0;34m\"Interrupted by user\"\u001b[0m\u001b[0;34m)\u001b[0m \u001b[0;32mfrom\u001b[0m \u001b[0;32mNone\u001b[0m\u001b[0;34m\u001b[0m\u001b[0;34m\u001b[0m\u001b[0m\n\u001b[0m\u001b[1;32m    896\u001b[0m             \u001b[0;32mexcept\u001b[0m \u001b[0mException\u001b[0m \u001b[0;32mas\u001b[0m \u001b[0me\u001b[0m\u001b[0;34m:\u001b[0m\u001b[0;34m\u001b[0m\u001b[0;34m\u001b[0m\u001b[0m\n\u001b[1;32m    897\u001b[0m                 \u001b[0mself\u001b[0m\u001b[0;34m.\u001b[0m\u001b[0mlog\u001b[0m\u001b[0;34m.\u001b[0m\u001b[0mwarning\u001b[0m\u001b[0;34m(\u001b[0m\u001b[0;34m\"Invalid Message:\"\u001b[0m\u001b[0;34m,\u001b[0m \u001b[0mexc_info\u001b[0m\u001b[0;34m=\u001b[0m\u001b[0;32mTrue\u001b[0m\u001b[0;34m)\u001b[0m\u001b[0;34m\u001b[0m\u001b[0;34m\u001b[0m\u001b[0m\n",
            "\u001b[0;31mKeyboardInterrupt\u001b[0m: Interrupted by user"
          ]
        }
      ]
    },
    {
      "cell_type": "code",
      "source": [],
      "metadata": {
        "id": "rljJyarMYw8i"
      },
      "execution_count": null,
      "outputs": []
    }
  ]
}