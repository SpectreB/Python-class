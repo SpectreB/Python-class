{
  "nbformat": 4,
  "nbformat_minor": 0,
  "metadata": {
    "colab": {
      "provenance": [],
      "authorship_tag": "ABX9TyMm6GoiFGy727VEzzjMxnZO",
      "include_colab_link": true
    },
    "kernelspec": {
      "name": "python3",
      "display_name": "Python 3"
    },
    "language_info": {
      "name": "python"
    }
  },
  "cells": [
    {
      "cell_type": "markdown",
      "metadata": {
        "id": "view-in-github",
        "colab_type": "text"
      },
      "source": [
        "<a href=\"https://colab.research.google.com/github/SpectreB/Python-class/blob/main/course3.ipynb\" target=\"_parent\"><img src=\"https://colab.research.google.com/assets/colab-badge.svg\" alt=\"Open In Colab\"/></a>"
      ]
    },
    {
      "cell_type": "code",
      "execution_count": null,
      "metadata": {
        "colab": {
          "base_uri": "https://localhost:8080/"
        },
        "id": "hTzuA7U3RZot",
        "outputId": "6032d744-f23c-4cc0-f051-8544e460b895"
      },
      "outputs": [
        {
          "output_type": "stream",
          "name": "stdout",
          "text": [
            "good mornin\n"
          ]
        }
      ],
      "source": [
        "message='good morning'\n",
        "print (message[: -1])"
      ]
    },
    {
      "cell_type": "code",
      "source": [
        "print(message.count(''))"
      ],
      "metadata": {
        "colab": {
          "base_uri": "https://localhost:8080/"
        },
        "id": "GRDwaxniTmI0",
        "outputId": "fe8b21be-9e86-4ea7-d2f6-545fda0b11f3"
      },
      "execution_count": null,
      "outputs": [
        {
          "output_type": "stream",
          "name": "stdout",
          "text": [
            "13\n"
          ]
        }
      ]
    },
    {
      "cell_type": "code",
      "source": [
        "print(message.count(' '))"
      ],
      "metadata": {
        "colab": {
          "base_uri": "https://localhost:8080/"
        },
        "id": "S3A1NIwqUAGI",
        "outputId": "7274e720-7494-4f37-a32d-507e1f2dff47"
      },
      "execution_count": null,
      "outputs": [
        {
          "output_type": "stream",
          "name": "stdout",
          "text": [
            "1\n"
          ]
        }
      ]
    },
    {
      "cell_type": "code",
      "source": [
        "print(message.len())\n",
        "print(message.find('m'))"
      ],
      "metadata": {
        "colab": {
          "base_uri": "https://localhost:8080/",
          "height": 197
        },
        "id": "TVhPrB1AUD6l",
        "outputId": "e78c4329-dcef-41b2-a047-152d7af7062f"
      },
      "execution_count": null,
      "outputs": [
        {
          "output_type": "error",
          "ename": "AttributeError",
          "evalue": "ignored",
          "traceback": [
            "\u001b[0;31m---------------------------------------------------------------------------\u001b[0m",
            "\u001b[0;31mAttributeError\u001b[0m                            Traceback (most recent call last)",
            "\u001b[0;32m<ipython-input-8-73d42afe5703>\u001b[0m in \u001b[0;36m<cell line: 1>\u001b[0;34m()\u001b[0m\n\u001b[0;32m----> 1\u001b[0;31m \u001b[0mprint\u001b[0m\u001b[0;34m(\u001b[0m\u001b[0mmessage\u001b[0m\u001b[0;34m.\u001b[0m\u001b[0mlen\u001b[0m\u001b[0;34m(\u001b[0m\u001b[0;34m)\u001b[0m\u001b[0;34m)\u001b[0m\u001b[0;34m\u001b[0m\u001b[0;34m\u001b[0m\u001b[0m\n\u001b[0m\u001b[1;32m      2\u001b[0m \u001b[0mprint\u001b[0m\u001b[0;34m(\u001b[0m\u001b[0mmessage\u001b[0m\u001b[0;34m.\u001b[0m\u001b[0mfind\u001b[0m\u001b[0;34m(\u001b[0m\u001b[0;34m'm'\u001b[0m\u001b[0;34m)\u001b[0m\u001b[0;34m)\u001b[0m\u001b[0;34m\u001b[0m\u001b[0;34m\u001b[0m\u001b[0m\n",
            "\u001b[0;31mAttributeError\u001b[0m: 'str' object has no attribute 'len'"
          ]
        }
      ]
    },
    {
      "cell_type": "code",
      "source": [],
      "metadata": {
        "id": "ZSPrhNSAUwWZ"
      },
      "execution_count": null,
      "outputs": []
    },
    {
      "cell_type": "code",
      "source": [
        "messageV2 = message.replace('morning', 'Afternoon')\n",
        "print(messageV2)&&&&\n"
      ],
      "metadata": {
        "colab": {
          "base_uri": "https://localhost:8080/"
        },
        "id": "s8u59bHBUZcM",
        "outputId": "ec4676d0-a975-4a72-9bb8-1e283d5ce393"
      },
      "execution_count": null,
      "outputs": [
        {
          "output_type": "stream",
          "name": "stdout",
          "text": [
            "good Afternoon\n"
          ]
        }
      ]
    },
    {
      "cell_type": "code",
      "source": [
        "print(dir(str))"
      ],
      "metadata": {
        "colab": {
          "base_uri": "https://localhost:8080/"
        },
        "id": "gE4G892HU6QE",
        "outputId": "193ab813-231e-4524-a6b5-aaa23461a0a1"
      },
      "execution_count": null,
      "outputs": [
        {
          "output_type": "stream",
          "name": "stdout",
          "text": [
            "['__add__', '__class__', '__contains__', '__delattr__', '__dir__', '__doc__', '__eq__', '__format__', '__ge__', '__getattribute__', '__getitem__', '__getnewargs__', '__gt__', '__hash__', '__init__', '__init_subclass__', '__iter__', '__le__', '__len__', '__lt__', '__mod__', '__mul__', '__ne__', '__new__', '__reduce__', '__reduce_ex__', '__repr__', '__rmod__', '__rmul__', '__setattr__', '__sizeof__', '__str__', '__subclasshook__', 'capitalize', 'casefold', 'center', 'count', 'encode', 'endswith', 'expandtabs', 'find', 'format', 'format_map', 'index', 'isalnum', 'isalpha', 'isascii', 'isdecimal', 'isdigit', 'isidentifier', 'islower', 'isnumeric', 'isprintable', 'isspace', 'istitle', 'isupper', 'join', 'ljust', 'lower', 'lstrip', 'maketrans', 'partition', 'removeprefix', 'removesuffix', 'replace', 'rfind', 'rindex', 'rjust', 'rpartition', 'rsplit', 'rstrip', 'split', 'splitlines', 'startswith', 'strip', 'swapcase', 'title', 'translate', 'upper', 'zfill']\n"
          ]
        }
      ]
    },
    {
      "cell_type": "code",
      "source": [
        "taille=float(input('entrez votre taille'))\n",
        "convention=input('Entrez votre convention cm/m')\n",
        "if convention=='cm':\n",
        "  taille=taille/100\n",
        "poids=float(input('entrez votre poids'))\n",
        "BMI=poids/taille**2\n",
        "if BMI < 18.5 :\n",
        "  print(BMI)\n",
        "  print('underweight')\n",
        "elif 18.5<BMI<25:\n",
        "  print(BMI)\n",
        "  print('normal weight')\n",
        "elif (25<BMI<30) :\n",
        "  print(BMI)\n",
        "  print('overweight')\n",
        "else :\n",
        "  print(BMI)\n",
        "  print('obesity')"
      ],
      "metadata": {
        "colab": {
          "base_uri": "https://localhost:8080/"
        },
        "id": "FeuBO0RHVSy5",
        "outputId": "5790ba7e-997e-4873-c344-0707af87711e"
      },
      "execution_count": null,
      "outputs": [
        {
          "output_type": "stream",
          "name": "stdout",
          "text": [
            "entrez votre taille185\n",
            "Entrez votre convention cm/mcm\n",
            "entrez votre poids73\n",
            "21.32943754565376\n",
            "normal weight\n"
          ]
        }
      ]
    },
    {
      "cell_type": "code",
      "source": [
        "nb1=int(input('Prompt a first number'))\n",
        "nb2=int(input('Prompt a second number'))\n",
        "partie_entiere=nb1//nb2\n",
        "if nb1%nb2==0 :\n",
        "  print('{} is divisible by {}'.format(nb1,nb2))\n",
        "  print(nb1/nb2)\n",
        "else :\n",
        "  print('the quotient is ' + partie_entiere)\n",
        "  print('the rest is  '+ nb1%nb2)\n"
      ],
      "metadata": {
        "colab": {
          "base_uri": "https://localhost:8080/",
          "height": 268
        },
        "id": "BkNRU7SKeMzd",
        "outputId": "daa04f88-56c0-42fd-9315-444bcada0e60"
      },
      "execution_count": null,
      "outputs": [
        {
          "name": "stdout",
          "output_type": "stream",
          "text": [
            "Prompt a first number3\n",
            "Prompt a second number2\n"
          ]
        },
        {
          "output_type": "error",
          "ename": "TypeError",
          "evalue": "ignored",
          "traceback": [
            "\u001b[0;31m---------------------------------------------------------------------------\u001b[0m",
            "\u001b[0;31mTypeError\u001b[0m                                 Traceback (most recent call last)",
            "\u001b[0;32m<ipython-input-18-3999917fd87e>\u001b[0m in \u001b[0;36m<cell line: 4>\u001b[0;34m()\u001b[0m\n\u001b[1;32m      6\u001b[0m   \u001b[0mprint\u001b[0m\u001b[0;34m(\u001b[0m\u001b[0mnb1\u001b[0m\u001b[0;34m/\u001b[0m\u001b[0mnb2\u001b[0m\u001b[0;34m)\u001b[0m\u001b[0;34m\u001b[0m\u001b[0;34m\u001b[0m\u001b[0m\n\u001b[1;32m      7\u001b[0m \u001b[0;32melse\u001b[0m \u001b[0;34m:\u001b[0m\u001b[0;34m\u001b[0m\u001b[0;34m\u001b[0m\u001b[0m\n\u001b[0;32m----> 8\u001b[0;31m   \u001b[0mprint\u001b[0m\u001b[0;34m(\u001b[0m\u001b[0;34m'the quotient is '\u001b[0m \u001b[0;34m+\u001b[0m \u001b[0mpartie_entiere\u001b[0m\u001b[0;34m)\u001b[0m\u001b[0;34m\u001b[0m\u001b[0;34m\u001b[0m\u001b[0m\n\u001b[0m\u001b[1;32m      9\u001b[0m   \u001b[0mprint\u001b[0m\u001b[0;34m(\u001b[0m\u001b[0;34m'the rest is  '\u001b[0m\u001b[0;34m+\u001b[0m \u001b[0mnb1\u001b[0m\u001b[0;34m%\u001b[0m\u001b[0mnb2\u001b[0m\u001b[0;34m)\u001b[0m\u001b[0;34m\u001b[0m\u001b[0;34m\u001b[0m\u001b[0m\n",
            "\u001b[0;31mTypeError\u001b[0m: can only concatenate str (not \"int\") to str"
          ]
        }
      ]
    },
    {
      "cell_type": "code",
      "source": [
        "nb1=int(input('Prompt a first number'))\n",
        "nb2=int(input('Prompt a second number'))\n",
        "if nb1>nb2 :\n",
        "  print('{} is superior to {}'. format(nb1,nb2))\n",
        "elif nb<2 :\n",
        "    print('{} is superior to {}'. format(nb2,nb1))\n",
        "else :\n",
        "    print('{} is equal to {}'. format(nb1,nb2))"
      ],
      "metadata": {
        "id": "GEEoiHvapaeg"
      },
      "execution_count": null,
      "outputs": []
    },
    {
      "cell_type": "code",
      "source": [
        "nb=int(input('How many units do you want ?'))\n",
        "charges=0\n",
        "if nb<100 :\n",
        "  print(\"there is no charges\")\n",
        "elif 100<nb<200 :\n",
        "  charges=(nb-100)*5\n",
        "  print('your charges will be : '+ charges)\n",
        "else :\n",
        "\n",
        "  charges=(nb-200)*10+5*100\n",
        "  print('your charges will be : +{}'.format(charges))\n",
        "\n",
        "\n"
      ],
      "metadata": {
        "colab": {
          "base_uri": "https://localhost:8080/"
        },
        "id": "1QFA6GWFsc79",
        "outputId": "fc923ea1-c53a-4d67-9793-15e19928df99"
      },
      "execution_count": null,
      "outputs": [
        {
          "output_type": "stream",
          "name": "stdout",
          "text": [
            "How many units do you want ?350\n",
            "your charges will be : +2000\n"
          ]
        }
      ]
    },
    {
      "cell_type": "code",
      "source": [],
      "metadata": {
        "id": "MT7te1j0ucQx"
      },
      "execution_count": null,
      "outputs": []
    }
  ]
}