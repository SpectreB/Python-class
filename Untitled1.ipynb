{
  "nbformat": 4,
  "nbformat_minor": 0,
  "metadata": {
    "colab": {
      "provenance": [],
      "authorship_tag": "ABX9TyMGw7wDTDWMHphJLzmfa1Tp",
      "include_colab_link": true
    },
    "kernelspec": {
      "name": "python3",
      "display_name": "Python 3"
    },
    "language_info": {
      "name": "python"
    }
  },
  "cells": [
    {
      "cell_type": "markdown",
      "metadata": {
        "id": "view-in-github",
        "colab_type": "text"
      },
      "source": [
        "<a href=\"https://colab.research.google.com/github/SpectreB/Python-class/blob/main/Untitled1.ipynb\" target=\"_parent\"><img src=\"https://colab.research.google.com/assets/colab-badge.svg\" alt=\"Open In Colab\"/></a>"
      ]
    },
    {
      "cell_type": "code",
      "execution_count": 2,
      "metadata": {
        "colab": {
          "base_uri": "https://localhost:8080/"
        },
        "id": "n9AdffMZtad_",
        "outputId": "c5d1efd9-d31d-4002-f6ec-ab6c0ac7ea60"
      },
      "outputs": [
        {
          "output_type": "stream",
          "name": "stdout",
          "text": [
            "aujourdhui il fait 80 et il pleut un sacré volume 4\n"
          ]
        }
      ],
      "source": [
        "T= 80\n",
        "V= 4\n",
        "print('aujourdhui il fait {} et il pleut un sacré volume {}'.format(T,V))"
      ]
    },
    {
      "cell_type": "code",
      "source": [
        "T = 80\n",
        "V = 4\n",
        "print('aujourd\\'hui il fait {} et il pleut un sacré volume {}'.format(T, V))\n"
      ],
      "metadata": {
        "colab": {
          "base_uri": "https://localhost:8080/"
        },
        "id": "jIaCo1sSv0xQ",
        "outputId": "7860f355-534d-40b7-ada2-37b6590b1e29"
      },
      "execution_count": null,
      "outputs": [
        {
          "output_type": "stream",
          "name": "stdout",
          "text": [
            "aujourd'hui il fait 80 et il pleut un sacré volume 4\n"
          ]
        }
      ]
    },
    {
      "cell_type": "code",
      "source": [],
      "metadata": {
        "id": "n0jCHaVzxP8a"
      },
      "execution_count": null,
      "outputs": []
    },
    {
      "cell_type": "code",
      "source": [
        "7//10\n"
      ],
      "metadata": {
        "colab": {
          "base_uri": "https://localhost:8080/"
        },
        "id": "6TjFdv98xQG8",
        "outputId": "aa5b0503-f1ac-4148-de9c-6896e8d63bb1"
      },
      "execution_count": null,
      "outputs": [
        {
          "output_type": "execute_result",
          "data": {
            "text/plain": [
              "0"
            ]
          },
          "metadata": {},
          "execution_count": 5
        }
      ]
    },
    {
      "cell_type": "code",
      "source": [
        "17//10"
      ],
      "metadata": {
        "colab": {
          "base_uri": "https://localhost:8080/"
        },
        "id": "4LMaQiVSxRux",
        "outputId": "acd97204-b2c7-49a5-a27a-059f385184c2"
      },
      "execution_count": null,
      "outputs": [
        {
          "output_type": "execute_result",
          "data": {
            "text/plain": [
              "1"
            ]
          },
          "metadata": {},
          "execution_count": 6
        }
      ]
    },
    {
      "cell_type": "code",
      "source": [
        "a=5\n",
        "b=3\n",
        "c=2.5\n",
        "print((2*a+(b**2))/c)"
      ],
      "metadata": {
        "colab": {
          "base_uri": "https://localhost:8080/"
        },
        "id": "fkO-WcYnxT4V",
        "outputId": "2e6f26ec-72f4-41a9-9c2b-a3e7a39ab757"
      },
      "execution_count": null,
      "outputs": [
        {
          "output_type": "stream",
          "name": "stdout",
          "text": [
            "7.6\n"
          ]
        }
      ]
    },
    {
      "cell_type": "code",
      "source": [
        "r=15\n",
        "h=2\n",
        "pi_value=math.pi\n",
        "print((1/3)*pi_value*h*(r**2))\n"
      ],
      "metadata": {
        "colab": {
          "base_uri": "https://localhost:8080/"
        },
        "id": "h2vqG4i8yOCL",
        "outputId": "0e5aa303-bfda-4368-83ed-47899e73a2f2"
      },
      "execution_count": null,
      "outputs": [
        {
          "output_type": "stream",
          "name": "stdout",
          "text": [
            "471.23889803846896\n"
          ]
        }
      ]
    },
    {
      "cell_type": "code",
      "source": [
        "import math"
      ],
      "metadata": {
        "id": "cmkt36eZ2lsY"
      },
      "execution_count": null,
      "outputs": []
    },
    {
      "cell_type": "code",
      "source": [
        "import pandas\n",
        "import matplotlib"
      ],
      "metadata": {
        "id": "CNtcOVou4Kgl"
      },
      "execution_count": null,
      "outputs": []
    },
    {
      "cell_type": "code",
      "source": [
        "num1=float(input(\"entrez un nb1\"))\n",
        "num2=float(input(\"entrez un nb2\"))\n",
        "num3=num1+num2\n",
        "num4=num1*num2\n",
        "print('la somme des deux nombres est {}'. format(num3))\n",
        "print('le produit des 2 nombres est {}'.format(num4))"
      ],
      "metadata": {
        "colab": {
          "base_uri": "https://localhost:8080/"
        },
        "id": "32aG4-Pk4jap",
        "outputId": "2c9cabfb-9953-4d0e-97e5-f1f90e7dd8d8"
      },
      "execution_count": null,
      "outputs": [
        {
          "output_type": "stream",
          "name": "stdout",
          "text": [
            "entrez un nb13\n",
            "entrez un nb24\n",
            "la somme des deux nombres est 7.0\n",
            "le produit des 2 nombres est 12.0\n"
          ]
        }
      ]
    },
    {
      "cell_type": "code",
      "source": [
        "T_cel=float(input(\"entrez une température en celsius\"))\n",
        "T_Kal=T_cel+273.15\n",
        "print(T_Kal)"
      ],
      "metadata": {
        "colab": {
          "base_uri": "https://localhost:8080/"
        },
        "id": "6l-EQTdf9Kl0",
        "outputId": "2535e74c-966f-47a2-9bd4-cb52e6e1e44d"
      },
      "execution_count": null,
      "outputs": [
        {
          "output_type": "stream",
          "name": "stdout",
          "text": [
            "entrez une température en celsius0\n",
            "273.15\n"
          ]
        }
      ]
    },
    {
      "cell_type": "code",
      "source": [
        "dimCube=float(input('Prompt a length for your cube'))\n",
        "surface=dimCube**2\n",
        "volume=dimCube**3\n",
        "print('the volume of the cube is {} cm^3 AND ITs surface is {} cm^2'.format(volume, surface))"
      ],
      "metadata": {
        "colab": {
          "base_uri": "https://localhost:8080/"
        },
        "id": "fSZeqig4BbgX",
        "outputId": "de0f902e-a99d-4076-9e97-0e433dcff47d"
      },
      "execution_count": null,
      "outputs": [
        {
          "output_type": "stream",
          "name": "stdout",
          "text": [
            "Prompt a length for your cube4\n",
            "the volume of the cube is 64.0 cm^3 AND ITs surface is 16.0 cm^2\n"
          ]
        }
      ]
    },
    {
      "cell_type": "code",
      "source": [
        "nbOfTen=float(input('Prompt the number of 10 euros banknote you have'))\n",
        "nbOfTwenty=float(input('Prompt the number of 20 euros banknote you have'))\n",
        "nbOfFifty=float(input('Prompt the number of 50 euros banknote you have'))\n",
        "total= nbOfTen*10+nbOfTwenty*20+nbOfFifty*50\n",
        "print('You have a total of {}'.format(total))"
      ],
      "metadata": {
        "colab": {
          "base_uri": "https://localhost:8080/"
        },
        "id": "lp8ErZ4-CvSd",
        "outputId": "67890396-4a32-4380-a923-6793d32607e7"
      },
      "execution_count": null,
      "outputs": [
        {
          "output_type": "stream",
          "name": "stdout",
          "text": [
            "Prompt the number of 10 euros banknote you have10\n",
            "Prompt the number of 20 euros banknote you have1\n",
            "Prompt the number of 50 euros banknote you have1\n",
            "You have a total of 170.0\n"
          ]
        }
      ]
    },
    {
      "cell_type": "code",
      "source": [
        "angle=float(input('Entrez un angle'))\n",
        "a=float(input('Prompt first side'))\n",
        "b=float(input('Prompt second side'))\n",
        "c2=a**2+b**2-2*a*b*math.cos(angle)\n",
        "print(math.sqrt(c2))"
      ],
      "metadata": {
        "colab": {
          "base_uri": "https://localhost:8080/"
        },
        "id": "BhuvYGqoEzUE",
        "outputId": "65a2906c-981a-4470-fb0d-599b92fdfab5"
      },
      "execution_count": null,
      "outputs": [
        {
          "output_type": "stream",
          "name": "stdout",
          "text": [
            "Entrez un angle90\n",
            "Prompt first side10\n",
            "Prompt second side20\n",
            "26.062030743049707\n"
          ]
        }
      ]
    },
    {
      "cell_type": "code",
      "source": [],
      "metadata": {
        "id": "vkhNFPZ2Nda8"
      },
      "execution_count": null,
      "outputs": []
    }
  ]
}